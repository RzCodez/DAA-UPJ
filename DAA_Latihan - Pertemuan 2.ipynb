{
  "nbformat": 4,
  "nbformat_minor": 0,
  "metadata": {
    "colab": {
      "provenance": []
    },
    "kernelspec": {
      "name": "python3",
      "display_name": "Python 3"
    },
    "language_info": {
      "name": "python"
    }
  },
  "cells": [
    {
      "cell_type": "markdown",
      "source": [
        "# **DAA - Pertemuan 2**\n",
        "\n",
        "Nama: Kafka Ramadityo <br>\n",
        "Prodi: Informatika <br>\n",
        "Mata Kuliah: Desain dan Analisis Algoritma\n",
        "\n",
        "\n",
        "## Macam-macam Algoritma"
      ],
      "metadata": {
        "id": "p_zi4kXZAQz_"
      }
    },
    {
      "cell_type": "code",
      "source": [
        "import numpy as np\n",
        "\n",
        "\n",
        "a = [1, 2, 3]\n",
        "b = [4, 5, 6]\n",
        "\n",
        "hasil = a + b\n",
        "\n",
        "print(hasil)\n",
        "\n",
        "def add(list_a, list_b):\n",
        "  result = []\n",
        "  for first, second in zip(list_a, list_b):\n",
        "    result.append(first + second)\n",
        "\n",
        "  return result\n",
        "\n",
        "print(add(a, b))"
      ],
      "metadata": {
        "colab": {
          "base_uri": "https://localhost:8080/"
        },
        "id": "CKOy05uXAav5",
        "outputId": "ce4cf33b-286d-4106-f0cd-37c360e0f406"
      },
      "execution_count": null,
      "outputs": [
        {
          "output_type": "stream",
          "name": "stdout",
          "text": [
            "[1, 2, 3, 4, 5, 6]\n",
            "[5, 7, 9]\n"
          ]
        }
      ]
    },
    {
      "cell_type": "code",
      "source": [
        "\"\"\"\n",
        "latihan membuat array dengan numpy\n",
        "\"\"\"\n",
        "\n",
        "import numpy as np\n",
        "\n",
        "nilai_siswa = np.array([85, 55, 40, 90])\n",
        "\n",
        "print(nilai_siswa[3])\n"
      ],
      "metadata": {
        "colab": {
          "base_uri": "https://localhost:8080/"
        },
        "id": "Otu5v9zIKe2r",
        "outputId": "6e148504-474b-4e40-94aa-fad8762787df"
      },
      "execution_count": null,
      "outputs": [
        {
          "output_type": "stream",
          "name": "stdout",
          "text": [
            "90\n"
          ]
        }
      ]
    },
    {
      "cell_type": "markdown",
      "source": [
        "\n",
        "\n",
        "---\n",
        "\n",
        "# Analisis performa"
      ],
      "metadata": {
        "id": "4V12IcV3Lx7-"
      }
    },
    {
      "cell_type": "code",
      "source": [
        "import numpy as np\n",
        "\n",
        "print(np.__version__)"
      ],
      "metadata": {
        "colab": {
          "base_uri": "https://localhost:8080/"
        },
        "id": "EmuhDCbbL1qU",
        "outputId": "78dd0fcb-d905-4a92-c741-b764b5b964b9"
      },
      "execution_count": null,
      "outputs": [
        {
          "output_type": "stream",
          "name": "stdout",
          "text": [
            "1.23.5\n"
          ]
        }
      ]
    },
    {
      "cell_type": "markdown",
      "source": [
        "\n",
        "\n",
        "---\n",
        "\n",
        "# **Latihan**"
      ],
      "metadata": {
        "id": "Gta1SKzzMFQJ"
      }
    },
    {
      "cell_type": "code",
      "source": [
        "nama = \"Kafka\"\n",
        "NIM = 2022071036\n",
        "\n",
        "print(\"Hello, world\")\n",
        "print(\"Nama saya \", nama)\n",
        "print(\"NIM saya \", NIM)"
      ],
      "metadata": {
        "id": "DIcmdhV5NQVy"
      },
      "execution_count": null,
      "outputs": []
    },
    {
      "cell_type": "code",
      "source": [
        "a = 5\n",
        "b = 2\n",
        "\n",
        "if(a > b):\n",
        "  print(a, \" > \", b)\n",
        "  print(\"Five is greater than two!\")"
      ],
      "metadata": {
        "id": "bdoIrMGzRUmN"
      },
      "execution_count": null,
      "outputs": []
    },
    {
      "cell_type": "code",
      "source": [
        "x = 5\n",
        "y = \"John\"\n",
        "print(x)\n",
        "print(y)"
      ],
      "metadata": {
        "id": "uora2I2jRgx1"
      },
      "execution_count": null,
      "outputs": []
    },
    {
      "cell_type": "code",
      "source": [
        "z = 4\n",
        "z = \"Sally\"\n",
        "print(z)"
      ],
      "metadata": {
        "id": "LpVehrLwRkA3"
      },
      "execution_count": null,
      "outputs": []
    },
    {
      "cell_type": "markdown",
      "source": [
        "---\n",
        "\n",
        "# Analisi Performa: Notasi Big O"
      ],
      "metadata": {
        "id": "FrHbbfWPPkJz"
      }
    },
    {
      "cell_type": "code",
      "source": [
        "def getFirst(myList):\n",
        "  return(myList[0])\n",
        "\n",
        "getFirst([1,2,3])"
      ],
      "metadata": {
        "colab": {
          "base_uri": "https://localhost:8080/"
        },
        "id": "GaADHiNSPskP",
        "outputId": "3624f997-8023-4d4a-b4ad-892fb595dae5"
      },
      "execution_count": null,
      "outputs": [
        {
          "output_type": "execute_result",
          "data": {
            "text/plain": [
              "1"
            ]
          },
          "metadata": {},
          "execution_count": 20
        }
      ]
    },
    {
      "cell_type": "code",
      "source": [
        "getFirst([1,2,3,4,5,6,7,8,9])"
      ],
      "metadata": {
        "colab": {
          "base_uri": "https://localhost:8080/"
        },
        "id": "OdbQ7GZ8P3Dp",
        "outputId": "13dbe7e1-6b09-4a64-e2ad-429e11d858e0"
      },
      "execution_count": null,
      "outputs": [
        {
          "output_type": "execute_result",
          "data": {
            "text/plain": [
              "1"
            ]
          },
          "metadata": {},
          "execution_count": 21
        }
      ]
    },
    {
      "cell_type": "code",
      "source": [
        "def getSecond(myList):\n",
        "  return(myList[1])\n",
        "\n",
        "getSecond([1,2,3])"
      ],
      "metadata": {
        "id": "ktn-w46gR07r"
      },
      "execution_count": null,
      "outputs": []
    },
    {
      "cell_type": "code",
      "source": [
        "getSecond([1,2,3,4,5,6,7,8,9])"
      ],
      "metadata": {
        "colab": {
          "base_uri": "https://localhost:8080/"
        },
        "id": "KvZo4eLtSLZb",
        "outputId": "044d2a21-11f2-42eb-dd25-2cefeb7305b8"
      },
      "execution_count": null,
      "outputs": [
        {
          "output_type": "execute_result",
          "data": {
            "text/plain": [
              "2"
            ]
          },
          "metadata": {},
          "execution_count": 30
        }
      ]
    },
    {
      "cell_type": "code",
      "source": [
        "def getLast(myList):\n",
        "  return myList[len(myList) - 1]\n",
        "\n",
        "getLast([1,2,3,4,5,6,7,8,9])"
      ],
      "metadata": {
        "colab": {
          "base_uri": "https://localhost:8080/"
        },
        "id": "Bj4i79uvdVeb",
        "outputId": "71d7b670-c88d-4832-9d4c-304ab7971aaf"
      },
      "execution_count": null,
      "outputs": [
        {
          "output_type": "execute_result",
          "data": {
            "text/plain": [
              "9"
            ]
          },
          "metadata": {},
          "execution_count": 51
        }
      ]
    },
    {
      "cell_type": "code",
      "source": [
        "def getSum(myList):\n",
        "  sum = 0\n",
        "  for item in myList:\n",
        "    sum = sum + item\n",
        "  return sum\n",
        "\n",
        "getSum([1,2,3,4,5,6,7,8,9])"
      ],
      "metadata": {
        "colab": {
          "base_uri": "https://localhost:8080/"
        },
        "id": "0OLuRAy1dlrP",
        "outputId": "be34042b-1d19-437f-8b1d-769097b079e8"
      },
      "execution_count": null,
      "outputs": [
        {
          "output_type": "execute_result",
          "data": {
            "text/plain": [
              "45"
            ]
          },
          "metadata": {},
          "execution_count": 53
        }
      ]
    },
    {
      "cell_type": "code",
      "source": [
        "def getKali(myList):\n",
        "  kali = 2\n",
        "  for item in myList:\n",
        "    kali = kali * item\n",
        "  return kali\n",
        "\n",
        "getKali([1,2,3,4,8,9])"
      ],
      "metadata": {
        "colab": {
          "base_uri": "https://localhost:8080/"
        },
        "outputId": "0e06e966-4d94-43ab-9643-459f06a513b4",
        "id": "0hP3O_raeCSP"
      },
      "execution_count": null,
      "outputs": [
        {
          "output_type": "execute_result",
          "data": {
            "text/plain": [
              "3456"
            ]
          },
          "metadata": {},
          "execution_count": 62
        }
      ]
    },
    {
      "cell_type": "code",
      "source": [
        "def getBagi(myList):\n",
        "  bagi = 2\n",
        "  for item in myList:\n",
        "    bagi = bagi / item\n",
        "  return bagi\n",
        "\n",
        "getBagi([1,2,3,4,5])"
      ],
      "metadata": {
        "colab": {
          "base_uri": "https://localhost:8080/"
        },
        "id": "5LxbOgQQeNJE",
        "outputId": "be90c05b-2c51-450a-fded-cae65691a278"
      },
      "execution_count": null,
      "outputs": [
        {
          "output_type": "execute_result",
          "data": {
            "text/plain": [
              "0.016666666666666666"
            ]
          },
          "metadata": {},
          "execution_count": 59
        }
      ]
    },
    {
      "cell_type": "code",
      "source": [
        "def getAverage(myList):\n",
        "    total = sum(myList)\n",
        "    avg = total / len(myList)\n",
        "    return avg\n",
        "\n",
        "average = getAverage([1, 2, 3, 4])\n",
        "print(average)"
      ],
      "metadata": {
        "colab": {
          "base_uri": "https://localhost:8080/"
        },
        "id": "vn06zi-dkN-Q",
        "outputId": "1a1c353a-4024-4d26-a2ce-4aa0e9f8ee6c"
      },
      "execution_count": null,
      "outputs": [
        {
          "output_type": "stream",
          "name": "stdout",
          "text": [
            "2.5\n"
          ]
        }
      ]
    },
    {
      "cell_type": "markdown",
      "source": [
        "---\n",
        "# **Latihan 2**"
      ],
      "metadata": {
        "id": "8JNPJLbbegjn"
      }
    },
    {
      "cell_type": "code",
      "source": [
        "def divide_with_sum(set1, set2):\n",
        "    result = getSum(set1) / getSum(set2)\n",
        "    return result\n",
        "\n",
        "def getSum(numbers):\n",
        "    total = sum(numbers)\n",
        "    return total\n",
        "\n",
        "set1 = [1, 2, 3, 4]\n",
        "set2 = [5, 6, 7, 8]\n",
        "result = divide_with_sum(set1, set2)\n",
        "print(result)"
      ],
      "metadata": {
        "colab": {
          "base_uri": "https://localhost:8080/"
        },
        "id": "B-EUUNznelPo",
        "outputId": "e3312225-1a02-4a45-ed3c-b82535a82fd9"
      },
      "execution_count": null,
      "outputs": [
        {
          "output_type": "stream",
          "name": "stdout",
          "text": [
            "0.38461538461538464\n"
          ]
        }
      ]
    },
    {
      "cell_type": "code",
      "source": [
        "def subtract_with_sum(set1, set2):\n",
        "    result = getSum(set1) - getSum(set2)\n",
        "    return result\n",
        "\n",
        "def getSum(numbers):\n",
        "    total = sum(numbers)\n",
        "    return total\n",
        "\n",
        "set1 = [1, 2, 3, 4]\n",
        "set2 = [5, 6, 7, 8]\n",
        "result = subtract_with_sum(set1, set2)\n",
        "print(result)"
      ],
      "metadata": {
        "colab": {
          "base_uri": "https://localhost:8080/"
        },
        "id": "jglNNa8Jh5UH",
        "outputId": "89465f03-455c-4671-fb73-df6dbfddd9f3"
      },
      "execution_count": null,
      "outputs": [
        {
          "output_type": "stream",
          "name": "stdout",
          "text": [
            "-16\n"
          ]
        }
      ]
    }
  ]
}
