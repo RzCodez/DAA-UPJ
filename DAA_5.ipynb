{
  "nbformat": 4,
  "nbformat_minor": 0,
  "metadata": {
    "colab": {
      "provenance": []
    },
    "kernelspec": {
      "name": "python3",
      "display_name": "Python 3"
    },
    "language_info": {
      "name": "python"
    }
  },
  "cells": [
    {
      "cell_type": "markdown",
      "source": [
        "# **DAA - Pertemuan 5**\n",
        "Nama: Kafka Ramadityo <br>\n",
        "MatKul: DAA <br>\n",
        "Program Studi: Informatika <br>"
      ],
      "metadata": {
        "id": "QhXue-qzPHdy"
      }
    },
    {
      "cell_type": "markdown",
      "source": [
        "### **MinMaks (divide-conquer)**"
      ],
      "metadata": {
        "id": "TUWyesc_PZq0"
      }
    },
    {
      "cell_type": "code",
      "execution_count": 10,
      "metadata": {
        "id": "uUwBsYOSH6ZS",
        "colab": {
          "base_uri": "https://localhost:8080/"
        },
        "outputId": "5005cd17-1551-4a11-e761-93ea13803f64"
      },
      "outputs": [
        {
          "output_type": "stream",
          "name": "stdout",
          "text": [
            "The minimum number in the array is:  1\n",
            "The maximum number in the array is:  35\n"
          ]
        }
      ],
      "source": [
        "def divideAndConquer_Max(arr, ind, len):\n",
        "  maximum = -1\n",
        "\n",
        "  if(ind >= len - 2):\n",
        "    if(arr[ind] > arr[ind + 1]):\n",
        "      return arr[ind]\n",
        "    else:\n",
        "      return arr[ind + 1]\n",
        "\n",
        "  maximum = divideAndConquer_Max(arr, ind + 1, len);\n",
        "\n",
        "  if(arr[ind] > maximum):\n",
        "    return arr[ind]\n",
        "  else:\n",
        "    return maximum\n",
        "\n",
        "def divideAndConquer_Min(arr, ind, len):\n",
        "  minimum = 0\n",
        "  if(ind >= len - 2):\n",
        "    if(arr[ind] < arr[ind + 1]):\n",
        "      return arr[ind]\n",
        "    else:\n",
        "      return arr[ind + 1]\n",
        "\n",
        "  minimum = divideAndConquer_Min(arr, ind + 1, len);\n",
        "\n",
        "  if(arr[ind] < minimum):\n",
        "    return arr[ind]\n",
        "  else:\n",
        "    return minimum\n",
        "\n",
        "if __name__ == '__main__':\n",
        "  minimum, maximum = 0, -1;\n",
        "\n",
        "  # array\n",
        "  arr = [4, 12, 23, 9, 21, 1, 35, 2, 24]\n",
        "\n",
        "  maximum = divideAndConquer_Max(arr, 0, len(arr));\n",
        "  minimum = divideAndConquer_Min(arr, 0, len(arr));\n",
        "\n",
        "  print(\"The minimum number in the array is: \", minimum)\n",
        "  print(\"The maximum number in the array is: \", maximum)"
      ]
    },
    {
      "cell_type": "markdown",
      "source": [
        "### **Merge Sort**"
      ],
      "metadata": {
        "id": "n5n0v9_QWrs5"
      }
    },
    {
      "cell_type": "code",
      "source": [
        "def mergeSort(array):\n",
        "  if len(array) > 1:\n",
        "    r = len(array) // 2\n",
        "    l = array[:r]\n",
        "    m = array[r:]\n",
        "\n",
        "    mergeSort(l)\n",
        "    mergeSort(m)\n",
        "\n",
        "    i = j = k = 0\n",
        "\n",
        "    while i < len(l) and j < len(m):\n",
        "      if l[i] < m[j]:\n",
        "        array[k] = l[i]\n",
        "        i += 1\n",
        "      else:\n",
        "        array[k] = m[j]\n",
        "        j += 1\n",
        "      k += 1\n",
        "\n",
        "    while i < len(l):\n",
        "      array[k] = l[i]\n",
        "      i += 1\n",
        "      k += 1\n",
        "\n",
        "    while j < len(m):\n",
        "      array[k] = m[j]\n",
        "      j += 1\n",
        "      k += 1\n",
        "\n",
        "def printList(array):\n",
        "  for i in range(len(array)):\n",
        "    print(array[i], end=\" \")\n",
        "  print()\n",
        "\n",
        "if __name__ == '__main__':\n",
        "\n",
        "  # array\n",
        "  array = [4, 12, 23, 9, 21, 1, 35, 2, 24]\n",
        "\n",
        "  mergeSort(array)\n",
        "\n",
        "  print(\"Sorted array is: \", array)"
      ],
      "metadata": {
        "colab": {
          "base_uri": "https://localhost:8080/"
        },
        "id": "KtVbQZo2Wvsk",
        "outputId": "af03c8ed-c728-4b1f-da30-a3328ac583c6"
      },
      "execution_count": 12,
      "outputs": [
        {
          "output_type": "stream",
          "name": "stdout",
          "text": [
            "Sorted array is:  [1, 2, 4, 9, 12, 21, 23, 24, 35]\n"
          ]
        }
      ]
    },
    {
      "cell_type": "markdown",
      "source": [
        "### **Quick Sort**"
      ],
      "metadata": {
        "id": "2fJpF_8ZgUwH"
      }
    },
    {
      "cell_type": "code",
      "source": [
        "def partition(array, low, high):\n",
        "  pivot = array[high]\n",
        "\n",
        "  i = low - 1\n",
        "\n",
        "  for j in range(low, high):\n",
        "    if array[j] <= pivot:\n",
        "      i = i + 1\n",
        "\n",
        "      (array[i], array[j]) = (array[j], array[i])\n",
        "\n",
        "  ((array[i + 1], array[high])) = (array[high], array[i + 1])\n",
        "\n",
        "  return i + 1\n",
        "\n",
        "def quickSort(array, low, high):\n",
        "  if low < high:\n",
        "\n",
        "    pi = partition(array, low, high)\n",
        "    quickSort(array, low, pi - 1)\n",
        "    quickSort(array, pi + 1, high)\n",
        "\n",
        "data = [4, 12, 23, 9, 21, 1, 35, 2, 24]\n",
        "print(\"Unsorted array\")\n",
        "print(data)\n",
        "\n",
        "size = len(data)\n",
        "\n",
        "quickSort(data, 0, size - 1)\n",
        "\n",
        "print(\"Sorted array in ascending order: \")\n",
        "print(data)\n"
      ],
      "metadata": {
        "colab": {
          "base_uri": "https://localhost:8080/"
        },
        "id": "HGpdLdlpgXUZ",
        "outputId": "b1eb6ac5-5715-4b4c-efb0-b8d55b8348a0"
      },
      "execution_count": 15,
      "outputs": [
        {
          "output_type": "stream",
          "name": "stdout",
          "text": [
            "Unsorted array\n",
            "[4, 12, 23, 9, 21, 1, 35, 2, 24]\n",
            "Sorted array in ascending order: \n",
            "[1, 2, 4, 9, 12, 21, 23, 24, 35]\n"
          ]
        }
      ]
    },
    {
      "cell_type": "markdown",
      "source": [
        "### **Hitung Inverse**"
      ],
      "metadata": {
        "id": "696v5HY_kF4V"
      }
    },
    {
      "cell_type": "code",
      "source": [
        "def countInversion(arr):\n",
        "  result = 0\n",
        "  for i in range(len(arr)):\n",
        "    for j in range(i + 1, len(arr)):\n",
        "      if arr[i] > arr[j]:\n",
        "        result += 1\n",
        "  return result"
      ],
      "metadata": {
        "id": "4BirQ7AzkPnf"
      },
      "execution_count": 16,
      "outputs": []
    },
    {
      "cell_type": "code",
      "source": [
        "arr = [21, 70, 36, 14, 25]"
      ],
      "metadata": {
        "id": "glrpEg69klX_"
      },
      "execution_count": 18,
      "outputs": []
    },
    {
      "cell_type": "code",
      "source": [
        "result = countInversion(arr)\n",
        "print(result)"
      ],
      "metadata": {
        "colab": {
          "base_uri": "https://localhost:8080/"
        },
        "id": "geeH0ndPkoh4",
        "outputId": "2e8c1c32-3127-4e0a-893a-bab7ac2255c1"
      },
      "execution_count": 19,
      "outputs": [
        {
          "output_type": "stream",
          "name": "stdout",
          "text": [
            "6\n"
          ]
        }
      ]
    },
    {
      "cell_type": "code",
      "source": [
        "# hitung inversi dengan divide dan conquer\n",
        "\n",
        "def countInversion(arr):\n",
        "  icount = 0\n",
        "  if len(arr) <= 1:\n",
        "    return icount\n",
        "\n",
        "  mid = len(arr)//2\n",
        "  left = arr[:mid]\n",
        "  right = arr[mid:]\n",
        "  icount += countInversion(left)\n",
        "  icount += countInversion(right)\n",
        "  i = j = k = 0\n",
        "\n",
        "  while i < len(left) and j < len(right):\n",
        "    if left[i] < right[j]:\n",
        "      arr[k] = left[i]\n",
        "      i += 1\n",
        "    else:\n",
        "      arr[k] = right[j]\n",
        "      j += 1\n",
        "      icount += (mid - i)\n",
        "    k += 1\n",
        "\n",
        "  while i < len(left):\n",
        "    arr[k] = left[i]\n",
        "    i += 1\n",
        "    k += 1\n",
        "\n",
        "  while j < len(right):\n",
        "    arr[k] = right[j]\n",
        "    j += 1\n",
        "    k += 1\n",
        "\n",
        "  return icount\n"
      ],
      "metadata": {
        "id": "YqJpbpHGlAZN"
      },
      "execution_count": 21,
      "outputs": []
    },
    {
      "cell_type": "code",
      "source": [
        "arr = [1, 20, 6, 4, 5]"
      ],
      "metadata": {
        "id": "OXnWL3UlmFcl"
      },
      "execution_count": 23,
      "outputs": []
    },
    {
      "cell_type": "code",
      "source": [
        "result = countInversion(arr)\n",
        "print(result)"
      ],
      "metadata": {
        "colab": {
          "base_uri": "https://localhost:8080/"
        },
        "id": "QQEqQkjTmIJG",
        "outputId": "cb1bf48f-d691-4674-88ba-24336b74d709"
      },
      "execution_count": 24,
      "outputs": [
        {
          "output_type": "stream",
          "name": "stdout",
          "text": [
            "5\n"
          ]
        }
      ]
    },
    {
      "cell_type": "markdown",
      "source": [
        "### **Maximum Subarray Sum**"
      ],
      "metadata": {
        "id": "rCC5Argho4zn"
      }
    },
    {
      "cell_type": "code",
      "source": [
        "# Tanpa divide dan conquer\n",
        "\n",
        "def maxSubSum(arr):\n",
        "  max_so_far = 0\n",
        "  max_ending_here = 0\n",
        "  for i in range(len(arr)):\n",
        "    max_ending_here += arr[i]\n",
        "    if max_ending_here > max_so_far:\n",
        "      max_so_far = max_ending_here\n",
        "    if max_ending_here < 0:\n",
        "      max_ending_here = 0\n",
        "  return max_so_far"
      ],
      "metadata": {
        "id": "kyli7RwGoPQ9"
      },
      "execution_count": 25,
      "outputs": []
    },
    {
      "cell_type": "code",
      "source": [
        "arr = [-2, -5, 6 -2, -3, 1, 5, -6]\n",
        "result = maxSubSum(arr)\n",
        "print(result)"
      ],
      "metadata": {
        "colab": {
          "base_uri": "https://localhost:8080/"
        },
        "id": "Cca2c82jonDN",
        "outputId": "7a73d1e9-cb60-4c2e-b0a0-c1eb3936d2f1"
      },
      "execution_count": 26,
      "outputs": [
        {
          "output_type": "stream",
          "name": "stdout",
          "text": [
            "7\n"
          ]
        }
      ]
    },
    {
      "cell_type": "code",
      "source": [
        "# menggunakan divide dan conquer\n",
        "\n",
        "def maxCrossingSum(arr, low, mid, high):\n",
        "  result = 0\n",
        "  leftSum = float('-infinity')\n",
        "\n",
        "  for i in range(mid, low - 1, -1):\n",
        "    result += arr[i]\n",
        "\n",
        "    if result > leftSum:\n",
        "      leftSum = result\n",
        "\n",
        "  result = 0\n",
        "  rightSum = float('-infinity')\n",
        "  for i in range(mid + 1, high + 1):\n",
        "    result += arr[i]\n",
        "\n",
        "    if result > rightSum:\n",
        "      rightSum = result\n",
        "\n",
        "  return leftSum + rightSum\n",
        "\n",
        "def maxSum(arr, low, high):\n",
        "  if low == high:\n",
        "    return arr[low]\n",
        "  mid = (low + high) // 2\n",
        "\n",
        "  return max(maxSum(arr, low, mid), maxSum(arr, mid + 1, high), maxCrossingSum(arr, low, mid, high))"
      ],
      "metadata": {
        "id": "FkCeF_zIpVRm"
      },
      "execution_count": 27,
      "outputs": []
    },
    {
      "cell_type": "code",
      "source": [
        "arr = [-2, -5, 6 -2, -3, 1, 5, -6]\n",
        "result = maxSum(arr, 0, len(arr) - 1)\n",
        "print(result)"
      ],
      "metadata": {
        "colab": {
          "base_uri": "https://localhost:8080/"
        },
        "id": "Uw3u7DeIqq81",
        "outputId": "fcb9bb6b-b4df-46c2-b501-007b4cb68999"
      },
      "execution_count": 30,
      "outputs": [
        {
          "output_type": "stream",
          "name": "stdout",
          "text": [
            "7\n"
          ]
        }
      ]
    },
    {
      "cell_type": "markdown",
      "source": [
        "### **Longest Common Prefix**"
      ],
      "metadata": {
        "id": "JMfHKhd8rNcA"
      }
    },
    {
      "cell_type": "code",
      "source": [
        "def longestCommonPrefix(a):\n",
        "  size = len(a)\n",
        "\n",
        "  if(size == 0):\n",
        "    return \"\"\n",
        "\n",
        "  if(size == 1):\n",
        "    return a[0]\n",
        "\n",
        "  a.sort()\n",
        "\n",
        "  end = min(len(a[0]), len(a[size - 1]))\n",
        "\n",
        "  i = 0\n",
        "  while (i < end and a[0][i] == a[size - 1][i]):\n",
        "    i += 1\n",
        "\n",
        "  pre = a[0][0: i]\n",
        "  return pre"
      ],
      "metadata": {
        "id": "iBAtlutLrVgm"
      },
      "execution_count": 31,
      "outputs": []
    },
    {
      "cell_type": "code",
      "source": [
        "arr = [\"geeksforgeeks\", \"geeks\", \"geek\", \"geezer\"]\n",
        "result = longestCommonPrefix(arr)\n",
        "print(result)"
      ],
      "metadata": {
        "colab": {
          "base_uri": "https://localhost:8080/"
        },
        "id": "HJ3NSBBAsTLK",
        "outputId": "ecbfee3c-166f-4859-8e54-377d03aa2c79"
      },
      "execution_count": 32,
      "outputs": [
        {
          "output_type": "stream",
          "name": "stdout",
          "text": [
            "gee\n"
          ]
        }
      ]
    },
    {
      "cell_type": "code",
      "source": [
        "arr = [\"apple\", \"ape\", \"april\"]\n",
        "result = longestCommonPrefix(arr)\n",
        "print(result)"
      ],
      "metadata": {
        "colab": {
          "base_uri": "https://localhost:8080/"
        },
        "id": "_iO4gC8NsuQF",
        "outputId": "6198649d-80f7-45d2-efb9-51afb50904f9"
      },
      "execution_count": 33,
      "outputs": [
        {
          "output_type": "stream",
          "name": "stdout",
          "text": [
            "ap\n"
          ]
        }
      ]
    },
    {
      "cell_type": "markdown",
      "source": [
        "### **Median dua array urut sama ukuran**"
      ],
      "metadata": {
        "id": "dO6Lrf0Ktqco"
      }
    },
    {
      "cell_type": "code",
      "source": [
        "def medianOfArray(arr1, arr2, n):\n",
        "  m1 = -1\n",
        "  m2 = -1\n",
        "  count = 0\n",
        "  i = j = 0\n",
        "\n",
        "  while count < n+1:\n",
        "    count += 1\n",
        "    if i == n:\n",
        "      m1 = m2\n",
        "      m2 = arr2[0]\n",
        "      break\n",
        "\n",
        "    if j == n:\n",
        "      m1 = m2\n",
        "      m2 = arr1[0]\n",
        "      break\n",
        "\n",
        "    if arr1[i] < arr2[j]:\n",
        "      m1 = m2\n",
        "      m2 = arr1[i]\n",
        "      i += 1\n",
        "\n",
        "    else:\n",
        "      m1 = m2\n",
        "      m2 = arr2[j]\n",
        "      j += 1\n",
        "  return (m1+m2) // 2"
      ],
      "metadata": {
        "id": "ZHtE7StztxJf"
      },
      "execution_count": 34,
      "outputs": []
    },
    {
      "cell_type": "code",
      "source": [
        "arr1 = [1, 12, 15, 26, 38]\n",
        "arr2 = [2, 13, 17, 30, 45]"
      ],
      "metadata": {
        "id": "NuJxmQTCu6KR"
      },
      "execution_count": 35,
      "outputs": []
    },
    {
      "cell_type": "code",
      "source": [
        "print(medianOfArray(arr1, arr2, len(arr1)))"
      ],
      "metadata": {
        "colab": {
          "base_uri": "https://localhost:8080/"
        },
        "id": "J-AmorvVvBMl",
        "outputId": "8904fe78-c607-4eb7-f50c-cf412ccc0692"
      },
      "execution_count": 36,
      "outputs": [
        {
          "output_type": "stream",
          "name": "stdout",
          "text": [
            "16\n"
          ]
        }
      ]
    },
    {
      "cell_type": "markdown",
      "source": [
        "### **Median dua array urut berbeda ukuran**"
      ],
      "metadata": {
        "id": "qN6orwJZvogr"
      }
    },
    {
      "cell_type": "code",
      "source": [
        "def Solution(arr):\n",
        "  n = len(arr)\n",
        "\n",
        "  if n % 2 == 0:\n",
        "    z = n // 2\n",
        "    e = arr[z]\n",
        "    q = arr[z - 1]\n",
        "    ans = (e + q) / 2\n",
        "    return ans\n",
        "\n",
        "  else:\n",
        "    z =  n // 2\n",
        "    ans = arr[z]\n",
        "    return ans"
      ],
      "metadata": {
        "id": "fljNyMFYv1BS"
      },
      "execution_count": 37,
      "outputs": []
    },
    {
      "cell_type": "code",
      "source": [
        "arr1 = [-5, 3, 6, 12, 15]\n",
        "arr2 = [-12, -10, -6, -3, 4, 10]\n",
        "\n",
        "arr3 = arr1 + arr2\n",
        "\n",
        "arr3.sort()\n",
        "\n",
        "print(\"median = \", Solution(arr3))"
      ],
      "metadata": {
        "colab": {
          "base_uri": "https://localhost:8080/"
        },
        "id": "OcQK3E6XwgrU",
        "outputId": "1091c758-d78c-4667-82ae-4be7eea0ea4f"
      },
      "execution_count": 38,
      "outputs": [
        {
          "output_type": "stream",
          "name": "stdout",
          "text": [
            "median =  3\n"
          ]
        }
      ]
    },
    {
      "cell_type": "markdown",
      "source": [
        "### **Median elemen terbesar dari array dan lebih kecil dari angka**"
      ],
      "metadata": {
        "id": "5ocnFFtIxPPU"
      }
    },
    {
      "cell_type": "code",
      "source": [
        "def floorSorted(arr, low, high, x):\n",
        "  if low > high:\n",
        "    return -1\n",
        "\n",
        "  if arr[low] > x:\n",
        "    return -1\n",
        "\n",
        "  if arr[high] <= x:\n",
        "    return arr[high]\n",
        "\n",
        "  mid = (low + high) // 2\n",
        "\n",
        "  if arr[mid] == x:\n",
        "    return arr[mid]\n",
        "\n",
        "  if mid > 0 and x >= arr[mid - 1] and arr[mid] > x:\n",
        "    return arr[mid - 1]\n",
        "\n",
        "  if mid < high and x < arr[mid + 1] and x >= arr[mid]:\n",
        "    return arr[mid]\n",
        "\n",
        "  if x > arr[mid]:\n",
        "    return floorSorted(arr, mid + 1, high, x)\n",
        "\n",
        "  else:\n",
        "    return floorSorted(arr, low, mid - 1, x)"
      ],
      "metadata": {
        "id": "gOeX1SbBxUvp"
      },
      "execution_count": 39,
      "outputs": []
    },
    {
      "cell_type": "code",
      "source": [
        "arr = [1, 2, 8, 10, 12, 14, 19]\n",
        "x = 5\n",
        "print(floorSorted(arr, 0, len(arr) - 1, x))"
      ],
      "metadata": {
        "colab": {
          "base_uri": "https://localhost:8080/"
        },
        "id": "apYsiiN7yfAk",
        "outputId": "d9adf663-0fd9-4f8b-85f1-c6948924a295"
      },
      "execution_count": 40,
      "outputs": [
        {
          "output_type": "stream",
          "name": "stdout",
          "text": [
            "2\n"
          ]
        }
      ]
    },
    {
      "cell_type": "markdown",
      "source": [
        "### **Nilai terdekat**"
      ],
      "metadata": {
        "id": "9ZVviaF0zJFc"
      }
    },
    {
      "cell_type": "code",
      "source": [
        "def closestNumber(arr, low, high, x):\n",
        "  if low > high:\n",
        "    return -1\n",
        "\n",
        "  if arr[high] <= x:\n",
        "    return arr[high]\n",
        "\n",
        "  if arr[low] >= x:\n",
        "    return arr[low]\n",
        "\n",
        "  mid = (low + high) // 2\n",
        "\n",
        "  if arr[mid] == x:\n",
        "    return arr[mid]\n",
        "\n",
        "  abs_mid = abs(arr[mid] - x)\n",
        "\n",
        "  if mid > 0:\n",
        "    abs_left = abs(arr[mid - 1] - x)\n",
        "\n",
        "    if abs_left < abs_mid:\n",
        "      return closestNumber(arr, low, mid - 1, x)\n",
        "\n",
        "  if mid < high:\n",
        "    abs_right = abs(arr[mid + 1] - x)\n",
        "\n",
        "    if abs_right < abs_mid:\n",
        "      return closestNumber(arr, mid + 1, high, x)\n",
        "\n",
        "  return arr[mid]"
      ],
      "metadata": {
        "id": "TxFoIXQ_zMM7"
      },
      "execution_count": 41,
      "outputs": []
    },
    {
      "cell_type": "code",
      "source": [
        "arr = [2, 5, 6, 7, 8, 8, 9]\n",
        "x = 9\n",
        "print(closestNumber(arr, 0, len(arr) - 1, x))"
      ],
      "metadata": {
        "colab": {
          "base_uri": "https://localhost:8080/"
        },
        "id": "ir92QY1L0tTo",
        "outputId": "8b03d4c2-264a-4674-d56c-6b2b5353b706"
      },
      "execution_count": 42,
      "outputs": [
        {
          "output_type": "stream",
          "name": "stdout",
          "text": [
            "9\n"
          ]
        }
      ]
    },
    {
      "cell_type": "code",
      "source": [
        "def find_closest(lst, k):\n",
        "  lst.sort()\n",
        "  closest_num = lst[0]\n",
        "\n",
        "  for num in lst:\n",
        "    if abs(num - k) < abs(closest_num - k):\n",
        "      closest_num = num\n",
        "\n",
        "    if num > k:\n",
        "      break\n",
        "\n",
        "  return closest_num"
      ],
      "metadata": {
        "id": "8McBoG5R09tU"
      },
      "execution_count": 43,
      "outputs": []
    },
    {
      "cell_type": "code",
      "source": [
        "lst = [3.64, 5.2, 9.42, 9.35, 8.5, 8]\n",
        "k = 9.1\n",
        "print(find_closest(lst, k))"
      ],
      "metadata": {
        "colab": {
          "base_uri": "https://localhost:8080/"
        },
        "id": "utojy1cL1gXC",
        "outputId": "5620f295-7090-4410-f733-5ff51ebefd6b"
      },
      "execution_count": 44,
      "outputs": [
        {
          "output_type": "stream",
          "name": "stdout",
          "text": [
            "9.35\n"
          ]
        }
      ]
    },
    {
      "cell_type": "code",
      "source": [
        "lst = [2, 5, 5, 7, 8, 8, 9]\n",
        "k = 6\n",
        "print(find_closest(lst, k))"
      ],
      "metadata": {
        "colab": {
          "base_uri": "https://localhost:8080/"
        },
        "id": "qyF2enE11t8u",
        "outputId": "3dcc46b4-5b1c-40fa-e71b-08ee3e934008"
      },
      "execution_count": 45,
      "outputs": [
        {
          "output_type": "stream",
          "name": "stdout",
          "text": [
            "5\n"
          ]
        }
      ]
    },
    {
      "cell_type": "markdown",
      "source": [
        "### **Fixed Point**"
      ],
      "metadata": {
        "id": "3qu_FQF61-6F"
      }
    },
    {
      "cell_type": "code",
      "source": [
        "def fixedPoint(arr, low, high):\n",
        "  if low > high:\n",
        "    return -1\n",
        "\n",
        "  if arr[high] ==  high:\n",
        "    return arr[high]\n",
        "\n",
        "  if arr[low] == low:\n",
        "    return arr[low]\n",
        "\n",
        "  mid = (low + high) // 2\n",
        "\n",
        "  if arr[mid] == mid:\n",
        "    return arr[mid]\n",
        "\n",
        "  if mid > arr[mid]:\n",
        "    return fixedPoint(arr, mid + 1, high)\n",
        "\n",
        "  else:\n",
        "    return fixedPoint(arr, low, mid -1)\n"
      ],
      "metadata": {
        "id": "wUrpK8bN2B3a"
      },
      "execution_count": 46,
      "outputs": []
    },
    {
      "cell_type": "code",
      "source": [
        "arr = [9, 1, 4, 5, 2]\n",
        "print(fixedPoint(arr, 0, len(arr) -1))"
      ],
      "metadata": {
        "colab": {
          "base_uri": "https://localhost:8080/"
        },
        "id": "va6NuVKk2kt6",
        "outputId": "49847fcc-957d-4131-8caa-f046f0d99e18"
      },
      "execution_count": 47,
      "outputs": [
        {
          "output_type": "stream",
          "name": "stdout",
          "text": [
            "1\n"
          ]
        }
      ]
    }
  ]
}