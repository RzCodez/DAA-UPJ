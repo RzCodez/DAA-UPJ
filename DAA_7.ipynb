{
  "nbformat": 4,
  "nbformat_minor": 0,
  "metadata": {
    "colab": {
      "provenance": []
    },
    "kernelspec": {
      "name": "python3",
      "display_name": "Python 3"
    },
    "language_info": {
      "name": "python"
    }
  },
  "cells": [
    {
      "cell_type": "markdown",
      "source": [
        "# Perkalian matriks"
      ],
      "metadata": {
        "id": "KX3i4wEdVqaC"
      }
    },
    {
      "cell_type": "code",
      "execution_count": 35,
      "metadata": {
        "id": "e-cd9D4yMG22",
        "colab": {
          "base_uri": "https://localhost:8080/"
        },
        "outputId": "7ff329c7-f970-4e54-8fc1-549d8555a648"
      },
      "outputs": [
        {
          "output_type": "stream",
          "name": "stdout",
          "text": [
            "21 0 \n",
            "42 12 \n"
          ]
        }
      ],
      "source": [
        "mat1 = [\n",
        "    [7, 0],\n",
        "    [4, 6],\n",
        "]\n",
        "\n",
        "mat2 = [\n",
        "    [3, 0],\n",
        "    [5, 2],\n",
        "]\n",
        "\n",
        "mat3 = []\n",
        "\n",
        "for x in range(0, len(mat1)):\n",
        "  row = []\n",
        "  for y in range(0, len(mat1[0])):\n",
        "    total = 0\n",
        "    for z in range(0, len(mat1)):\n",
        "      total = total + (mat1[x][z] * mat2[z][y])\n",
        "    row.append(total)\n",
        "  mat3.append(row)\n",
        "\n",
        "for x in range(0, len(mat3)):\n",
        "  for y in range (0, len(mat3[0])):\n",
        "    print(mat3[x][y], end=' ')\n",
        "  print()\n",
        "\n"
      ]
    },
    {
      "cell_type": "markdown",
      "source": [
        "Latihan matriks"
      ],
      "metadata": {
        "id": "AdqijbLTYYA3"
      }
    },
    {
      "cell_type": "code",
      "source": [
        "mat1 = [\n",
        "    [7, 3],\n",
        "    [2, 1],\n",
        "]\n",
        "\n",
        "mat2 = [\n",
        "    [5, 4],\n",
        "    [6, 3],\n",
        "]\n",
        "\n",
        "mat3 = []\n",
        "\n",
        "for x in range(0, len(mat1)):\n",
        "  row = []\n",
        "  for y in range(0, len(mat1[0])):\n",
        "    total = 0\n",
        "    for z in range(0, len(mat1)):\n",
        "      total = total + (mat1[x][z] * mat2[z][y])\n",
        "    row.append(total)\n",
        "  mat3.append(row)\n",
        "\n",
        "for x in range(0, len(mat3)):\n",
        "  for y in range (0, len(mat3[0])):\n",
        "    print(mat3[x][y], end=' ')\n",
        "  print()\n",
        "\n"
      ],
      "metadata": {
        "colab": {
          "base_uri": "https://localhost:8080/"
        },
        "id": "o-q75B72YXHU",
        "outputId": "3189aad0-57d1-47b6-ef18-3c3eaa11ce12"
      },
      "execution_count": 36,
      "outputs": [
        {
          "output_type": "stream",
          "name": "stdout",
          "text": [
            "53 37 \n",
            "16 11 \n"
          ]
        }
      ]
    },
    {
      "cell_type": "code",
      "source": [
        "def faktorial(n):\n",
        "  if (n == 1):\n",
        "    return n\n",
        "  return faktorial(n - 1) * n\n",
        "\n",
        "n = int(input(\"Masukkn nilai n: \"))\n",
        "print(\"Hasil dari {n}! \", faktorial(n))"
      ],
      "metadata": {
        "colab": {
          "base_uri": "https://localhost:8080/"
        },
        "id": "0XWYrGRhl7q6",
        "outputId": "0d321e60-39c3-4034-d712-854fa12868db"
      },
      "execution_count": 37,
      "outputs": [
        {
          "output_type": "stream",
          "name": "stdout",
          "text": [
            "Masukkn nilai n: 4\n",
            "Hasil dari {n}!  24\n"
          ]
        }
      ]
    },
    {
      "cell_type": "markdown",
      "source": [
        "Mencari elemen terbesar"
      ],
      "metadata": {
        "id": "QXzINC9fnb1f"
      }
    },
    {
      "cell_type": "code",
      "source": [
        "def nilai_maksimal(deret_bilangan):\n",
        "  nilai_terbesar = deret_bilangan[0]\n",
        "\n",
        "  for nilai in deret_bilangan:\n",
        "    if nilai > nilai_terbesar:\n",
        "      nilai_terbesar = nilai\n",
        "\n",
        "  return nilai_terbesar\n"
      ],
      "metadata": {
        "id": "MW1fbqwjnaE_"
      },
      "execution_count": 38,
      "outputs": []
    },
    {
      "cell_type": "code",
      "source": [
        "a = [3, 20, 100, -35, 50]\n",
        "\n",
        "print(a)\n",
        "print(\"nilai terbesar: \", nilai_maksimal(a))"
      ],
      "metadata": {
        "colab": {
          "base_uri": "https://localhost:8080/"
        },
        "id": "3cfWNSnNnscJ",
        "outputId": "ff8eefad-c3f3-4aa2-c3b8-4f5a55d9ce79"
      },
      "execution_count": 39,
      "outputs": [
        {
          "output_type": "stream",
          "name": "stdout",
          "text": [
            "[3, 20, 100, -35, 50]\n",
            "nilai terbesar:  100\n"
          ]
        }
      ]
    },
    {
      "cell_type": "markdown",
      "source": [
        "Sequential search"
      ],
      "metadata": {
        "id": "sR6_MBU0uR6V"
      }
    },
    {
      "cell_type": "code",
      "source": [
        "def sequentialSearch(alist, item):\n",
        "  pos = 0\n",
        "  found = False\n",
        "\n",
        "  while pos < len(alist) and not found:\n",
        "    if alist[pos] == item:\n",
        "      found = True\n",
        "\n",
        "    else:\n",
        "      pos = pos + 1\n",
        "\n",
        "  return found\n",
        "\n",
        "testlist = [1, 2, 32, 8, 17, 19, 42, 13, 0]\n",
        "print(sequentialSearch(testlist, 3))\n",
        "print(sequentialSearch(testlist, 2))"
      ],
      "metadata": {
        "colab": {
          "base_uri": "https://localhost:8080/"
        },
        "id": "APN0WjdLuTQM",
        "outputId": "22993d9b-a61f-4519-907c-3fa25dbc5d8d"
      },
      "execution_count": 40,
      "outputs": [
        {
          "output_type": "stream",
          "name": "stdout",
          "text": [
            "False\n",
            "True\n"
          ]
        }
      ]
    },
    {
      "cell_type": "markdown",
      "source": [
        "Bubble Sort"
      ],
      "metadata": {
        "id": "Nvo59aL7zHaD"
      }
    },
    {
      "cell_type": "code",
      "source": [
        "def bubbleSort(alist):\n",
        "  for passnum in range(len(alist)  - 1,  0, -1):\n",
        "    for i in range(passnum):\n",
        "      if alist[i] > alist[i + 1]:\n",
        "        temp = alist[i]\n",
        "        alist[i] = alist[i + 1]\n",
        "        alist[i + 1] = temp\n",
        "\n",
        "alist = [54, 26, 93, 17, 77, 31, 44, 55, 20]\n",
        "bubbleSort(alist)\n",
        "print(alist)"
      ],
      "metadata": {
        "colab": {
          "base_uri": "https://localhost:8080/"
        },
        "id": "YUKZm96wuxAE",
        "outputId": "a95f3237-f547-4835-cf48-e4314e22f362"
      },
      "execution_count": 41,
      "outputs": [
        {
          "output_type": "stream",
          "name": "stdout",
          "text": [
            "[17, 20, 26, 31, 44, 54, 55, 77, 93]\n"
          ]
        }
      ]
    },
    {
      "cell_type": "markdown",
      "source": [
        "Uji keprimaan"
      ],
      "metadata": {
        "id": "Q7A9FG_P1t5Y"
      }
    },
    {
      "cell_type": "code",
      "source": [
        "x = int(input(\"Input satu angka bulat: \"))\n",
        "\n",
        "angka_prima = True\n",
        "\n",
        "if((x == 0) or (x == 1)):\n",
        "  angka_prima = False\n",
        "\n",
        "else:\n",
        "  for i in range(2, (x // 2)):\n",
        "    if((x %i) == 0):\n",
        "      angka_prima = False\n",
        "      break\n",
        "\n",
        "if(angka_prima):\n",
        "  print(x, \" adalah angka prima\")\n",
        "\n",
        "else:\n",
        "  print(x, \" bukan angka prima\")\n"
      ],
      "metadata": {
        "colab": {
          "base_uri": "https://localhost:8080/"
        },
        "id": "xlocUTAv1vXh",
        "outputId": "80fcef25-15d2-4deb-bf08-2ae2ca1c7955"
      },
      "execution_count": 68,
      "outputs": [
        {
          "output_type": "stream",
          "name": "stdout",
          "text": [
            "Input satu angka bulat: 6\n",
            "6  adalah angka prima\n"
          ]
        }
      ]
    },
    {
      "cell_type": "markdown",
      "source": [
        "Polynomial"
      ],
      "metadata": {
        "id": "vrYghKZK6nfn"
      }
    },
    {
      "cell_type": "code",
      "source": [
        "def polynomial_py(a, x):\n",
        "  result = 0\n",
        "\n",
        "  for  n, a_n in enumerate(a):\n",
        "    x_power_n = 1\n",
        "    for i in range(n):\n",
        "      x_power_n *= x\n",
        "\n",
        "    result += a_n * x_power_n\n",
        "  return result"
      ],
      "metadata": {
        "id": "_YcsQ_Vs6pPM"
      },
      "execution_count": 43,
      "outputs": []
    },
    {
      "cell_type": "code",
      "source": [
        "a = [1, 2, 0, 3]\n",
        "x = 1.5\n",
        "print(polynomial_py(a, x))"
      ],
      "metadata": {
        "colab": {
          "base_uri": "https://localhost:8080/"
        },
        "id": "IwgPgJoB7gQQ",
        "outputId": "c7add283-3fa8-46d6-f70d-e2c0e467b95b"
      },
      "execution_count": 44,
      "outputs": [
        {
          "output_type": "stream",
          "name": "stdout",
          "text": [
            "14.125\n"
          ]
        }
      ]
    },
    {
      "cell_type": "markdown",
      "source": [
        "# Bruteforce"
      ],
      "metadata": {
        "id": "fYfS5i2R-yjg"
      }
    },
    {
      "cell_type": "markdown",
      "source": [
        "Matching substring in String"
      ],
      "metadata": {
        "id": "fkB_y2OK-0Wu"
      }
    },
    {
      "cell_type": "code",
      "source": [
        "test_str = \"GfG is good website\"\n",
        "test_list = [\"GfG\", \"site\", \"CS\", \"Geeks\", \"Tutorial\"]\n",
        "print(\"The original string is: \" + test_str)\n",
        "print(\"The original list is: \" + str(test_list))\n",
        "\n",
        "res = [sub for sub in test_list if sub in test_str]\n",
        "print(\"The list of found substring: \" + str(res))"
      ],
      "metadata": {
        "colab": {
          "base_uri": "https://localhost:8080/"
        },
        "id": "rB1J7ENs-2LF",
        "outputId": "94f54f69-45d8-4c60-a0bd-d8daea2835e0"
      },
      "execution_count": 45,
      "outputs": [
        {
          "output_type": "stream",
          "name": "stdout",
          "text": [
            "The original string is: GfG is good website\n",
            "The original list is: ['GfG', 'site', 'CS', 'Geeks', 'Tutorial']\n",
            "The list of found substring: ['GfG', 'site']\n"
          ]
        }
      ]
    },
    {
      "cell_type": "markdown",
      "source": [
        "Mencari pasangan titik jarak terdekat"
      ],
      "metadata": {
        "id": "gr_dIaRfA2Xk"
      }
    },
    {
      "cell_type": "code",
      "source": [
        "from math import sqrt\n",
        "from random import randint\n",
        "titik = []\n",
        "n = int(input(\"Masukkan jumlah titik yang ingin Anda cari jaraknya: \"))\n",
        "\n",
        "for i in range(0, n):\n",
        "  titik.append([randint(0, 100), randint(0, 100)])\n",
        "\n",
        "print(\"Titik: \\n\", titik)\n",
        "def hitungjarak (lis):\n",
        "  lisjarak = []\n",
        "  for i in range(0, len(lis) - 1):\n",
        "    for j in range(i + 1, len(lis)):\n",
        "      jarak = sqrt((lis[i][0] - lis[j][0]) ** 2 + (lis[i][1] - lis[j][1]) ** 2)\n",
        "      lisjarak.append(jarak)\n",
        "      print(\"Titik: \", lis[i], \"Titik: \", lis[j], \": \", jarak)\n",
        "\n",
        "  return min(lisjarak)\n",
        "\n",
        "print(\"Jarak terdekat: \\n\", hitungjarak(titik))"
      ],
      "metadata": {
        "id": "AHF_6O8GA4iZ",
        "colab": {
          "base_uri": "https://localhost:8080/"
        },
        "outputId": "8bc8c556-c06e-4981-e8b4-5b9831b9191b"
      },
      "execution_count": 46,
      "outputs": [
        {
          "output_type": "stream",
          "name": "stdout",
          "text": [
            "Masukkan jumlah titik yang ingin Anda cari jaraknya: 10\n",
            "Titik: \n",
            " [[20, 38], [32, 94], [89, 66], [81, 59], [72, 99], [81, 14], [4, 33], [4, 60], [9, 23], [1, 60]]\n",
            "Titik:  [20, 38] Titik:  [32, 94] :  57.271284253105414\n",
            "Titik:  [20, 38] Titik:  [89, 66] :  74.46475676452586\n",
            "Titik:  [20, 38] Titik:  [81, 59] :  64.51356446515724\n",
            "Titik:  [20, 38] Titik:  [72, 99] :  80.15609770940699\n",
            "Titik:  [20, 38] Titik:  [81, 14] :  65.55150646628954\n",
            "Titik:  [20, 38] Titik:  [4, 33] :  16.76305461424021\n",
            "Titik:  [20, 38] Titik:  [4, 60] :  27.202941017470888\n",
            "Titik:  [20, 38] Titik:  [9, 23] :  18.601075237738275\n",
            "Titik:  [20, 38] Titik:  [1, 60] :  29.068883707497267\n",
            "Titik:  [32, 94] Titik:  [89, 66] :  63.50590523722971\n",
            "Titik:  [32, 94] Titik:  [81, 59] :  60.21627686929839\n",
            "Titik:  [32, 94] Titik:  [72, 99] :  40.311288741492746\n",
            "Titik:  [32, 94] Titik:  [81, 14] :  93.81364506296512\n",
            "Titik:  [32, 94] Titik:  [4, 33] :  67.11929677819934\n",
            "Titik:  [32, 94] Titik:  [4, 60] :  44.04543109109048\n",
            "Titik:  [32, 94] Titik:  [9, 23] :  74.63243262818116\n",
            "Titik:  [32, 94] Titik:  [1, 60] :  46.010868281309364\n",
            "Titik:  [89, 66] Titik:  [81, 59] :  10.63014581273465\n",
            "Titik:  [89, 66] Titik:  [72, 99] :  37.12142238654117\n",
            "Titik:  [89, 66] Titik:  [81, 14] :  52.61178575186362\n",
            "Titik:  [89, 66] Titik:  [4, 33] :  91.18113840043894\n",
            "Titik:  [89, 66] Titik:  [4, 60] :  85.21150157109074\n",
            "Titik:  [89, 66] Titik:  [9, 23] :  90.82400563727631\n",
            "Titik:  [89, 66] Titik:  [1, 60] :  88.20430828479978\n",
            "Titik:  [81, 59] Titik:  [72, 99] :  41.0\n",
            "Titik:  [81, 59] Titik:  [81, 14] :  45.0\n",
            "Titik:  [81, 59] Titik:  [4, 33] :  81.27115109311545\n",
            "Titik:  [81, 59] Titik:  [4, 60] :  77.00649323271382\n",
            "Titik:  [81, 59] Titik:  [9, 23] :  80.49844718999243\n",
            "Titik:  [81, 59] Titik:  [1, 60] :  80.00624975587844\n",
            "Titik:  [72, 99] Titik:  [81, 14] :  85.47514258543241\n",
            "Titik:  [72, 99] Titik:  [4, 33] :  94.76286192385707\n",
            "Titik:  [72, 99] Titik:  [4, 60] :  78.39005038906404\n",
            "Titik:  [72, 99] Titik:  [9, 23] :  98.71676655968832\n",
            "Titik:  [72, 99] Titik:  [1, 60] :  81.00617260431454\n",
            "Titik:  [81, 14] Titik:  [4, 33] :  79.30952023559341\n",
            "Titik:  [81, 14] Titik:  [4, 60] :  89.69392398596462\n",
            "Titik:  [81, 14] Titik:  [9, 23] :  72.56031973468694\n",
            "Titik:  [81, 14] Titik:  [1, 60] :  92.28217596047462\n",
            "Titik:  [4, 33] Titik:  [4, 60] :  27.0\n",
            "Titik:  [4, 33] Titik:  [9, 23] :  11.180339887498949\n",
            "Titik:  [4, 33] Titik:  [1, 60] :  27.16615541441225\n",
            "Titik:  [4, 60] Titik:  [9, 23] :  37.33630940518894\n",
            "Titik:  [4, 60] Titik:  [1, 60] :  3.0\n",
            "Titik:  [9, 23] Titik:  [1, 60] :  37.8549864614954\n",
            "Jarak terdekat: \n",
            " 3.0\n"
          ]
        }
      ]
    },
    {
      "cell_type": "markdown",
      "source": [
        "# Algoritma brute force (implementasi)"
      ],
      "metadata": {
        "id": "ZVge8N3GXsfa"
      }
    },
    {
      "cell_type": "markdown",
      "source": [
        "Linear search"
      ],
      "metadata": {
        "id": "CMBc-DmnUtj2"
      }
    },
    {
      "cell_type": "code",
      "source": [
        "def find_maximum(lst):\n",
        "  max = None\n",
        "  for el in lst:\n",
        "    if max == None or el > max:\n",
        "      max = el\n",
        "\n",
        "  return max\n",
        "test_scores = [88, 93, 75, 100, 80, 67, 71, 92, 90, 83]\n",
        "print(find_maximum(test_scores))"
      ],
      "metadata": {
        "colab": {
          "base_uri": "https://localhost:8080/"
        },
        "id": "V4spaKafXLu8",
        "outputId": "f4e8862f-d22a-4352-8760-c0b645fe3f94"
      },
      "execution_count": 47,
      "outputs": [
        {
          "output_type": "stream",
          "name": "stdout",
          "text": [
            "100\n"
          ]
        }
      ]
    },
    {
      "cell_type": "markdown",
      "source": [
        "Selection sort"
      ],
      "metadata": {
        "id": "ENDzx0yzXxhr"
      }
    },
    {
      "cell_type": "code",
      "source": [
        "def selection_sort(list):\n",
        "  for i in range(len(list) - 1):\n",
        "    smallest_index = i\n",
        "    for j in range(i + 1, len(list)):\n",
        "      if list[j] < list[smallest_index]:\n",
        "        smallest_index = j\n",
        "    list[i], list[smallest_index] = list[smallest_index], list[i]\n",
        "\n",
        "list = [5, 3, 2, 1, 4]\n",
        "selection_sort(list)\n",
        "print(list)\n"
      ],
      "metadata": {
        "colab": {
          "base_uri": "https://localhost:8080/"
        },
        "id": "rntn_7FvXrmc",
        "outputId": "a03ee656-b8c4-4657-bc89-47a56062d524"
      },
      "execution_count": 48,
      "outputs": [
        {
          "output_type": "stream",
          "name": "stdout",
          "text": [
            "[1, 2, 3, 4, 5]\n"
          ]
        }
      ]
    },
    {
      "cell_type": "markdown",
      "source": [
        "sequential search"
      ],
      "metadata": {
        "id": "PSNmv0BBasrE"
      }
    },
    {
      "cell_type": "code",
      "source": [
        "def sequentialSearch(alist, item):\n",
        "  pos = 0\n",
        "  found = False\n",
        "\n",
        "  while pos < len(alist) and not found:\n",
        "    if alist[pos] == item:\n",
        "      found = True\n",
        "\n",
        "    else:\n",
        "      pos = pos + 1\n",
        "\n",
        "  return found, pos"
      ],
      "metadata": {
        "id": "zthDIsVSautm"
      },
      "execution_count": 49,
      "outputs": []
    },
    {
      "cell_type": "code",
      "source": [
        "print(sequentialSearch([11, 23, 58, 31, 56, 77, 43, 12, 65, 19], 31))"
      ],
      "metadata": {
        "colab": {
          "base_uri": "https://localhost:8080/"
        },
        "id": "vyuQnpaDaxKj",
        "outputId": "e7660201-cbec-4f45-fe7c-ee1cb2bbb9d3"
      },
      "execution_count": 50,
      "outputs": [
        {
          "output_type": "stream",
          "name": "stdout",
          "text": [
            "(True, 3)\n"
          ]
        }
      ]
    },
    {
      "cell_type": "markdown",
      "source": [
        "Latihan <br>\n",
        "Carilah string g dari deret a sampai h dengan sequential search"
      ],
      "metadata": {
        "id": "iD6igIOFbZK4"
      }
    },
    {
      "cell_type": "code",
      "source": [
        "def sequentialSearch(alist, item):\n",
        "  pos = 0\n",
        "  found = False\n",
        "\n",
        "  while pos < len(alist) and not found:\n",
        "    if alist[pos] == item:\n",
        "      found = True\n",
        "\n",
        "    else:\n",
        "      pos = pos + 1\n",
        "\n",
        "  return found, pos\n",
        "\n",
        "print(sequentialSearch(['a', 'b', 'c', 'd', 'e', 'f', 'g', 'h', ], 'g'))"
      ],
      "metadata": {
        "colab": {
          "base_uri": "https://localhost:8080/"
        },
        "id": "vFLsjTtdbkyS",
        "outputId": "fe9e35fb-a79e-4836-bab5-690392c0ed6a"
      },
      "execution_count": 51,
      "outputs": [
        {
          "output_type": "stream",
          "name": "stdout",
          "text": [
            "(True, 6)\n"
          ]
        }
      ]
    },
    {
      "cell_type": "markdown",
      "source": [
        "pangkat"
      ],
      "metadata": {
        "id": "iB2-WqJncVOH"
      }
    },
    {
      "cell_type": "code",
      "source": [
        "bilangan = int(input(\"Masukkan bilangan: \"))\n",
        "pangkat = int(input(\"Masukkan pangkat: \"))\n",
        "\n",
        "def hitung_pangkat(bilangan, pangkat):\n",
        "  if pangkat > 1:\n",
        "    return bilangan * hitung_pangkat(bilangan, pangkat -1 )\n",
        "\n",
        "  return bilangan\n",
        "\n",
        "hasil = hitung_pangkat(bilangan, pangkat)\n",
        "print(f'hasil = {hasil}')"
      ],
      "metadata": {
        "colab": {
          "base_uri": "https://localhost:8080/"
        },
        "id": "n7fLYmUhcWjp",
        "outputId": "d9cd6721-feb7-49d9-e9e7-60a267a0217f"
      },
      "execution_count": 52,
      "outputs": [
        {
          "output_type": "stream",
          "name": "stdout",
          "text": [
            "Masukkan bilangan: 0\n",
            "Masukkan pangkat: 0\n",
            "hasil = 0\n"
          ]
        }
      ]
    },
    {
      "cell_type": "markdown",
      "source": [
        "faktorial"
      ],
      "metadata": {
        "id": "nfxYpkW_c7ZS"
      }
    },
    {
      "cell_type": "code",
      "source": [
        "n = int(input(\"Masukkan nilai n: \"))\n",
        "\n",
        "def hitung_faktorial (n):\n",
        "  if n > 2:\n",
        "    return n * hitung_faktorial(n - 1)\n",
        "\n",
        "  return 2\n",
        "\n",
        "faktorial = hitung_faktorial(n)\n",
        "print(f\"{n}! = {faktorial}\")"
      ],
      "metadata": {
        "colab": {
          "base_uri": "https://localhost:8080/"
        },
        "id": "xYF3C8Skc8WV",
        "outputId": "1ec566e6-4f30-4723-dbe3-db6680a086ae"
      },
      "execution_count": 53,
      "outputs": [
        {
          "output_type": "stream",
          "name": "stdout",
          "text": [
            "Masukkan nilai n: 0\n",
            "0! = 2\n"
          ]
        }
      ]
    },
    {
      "cell_type": "markdown",
      "source": [
        "String matching"
      ],
      "metadata": {
        "id": "8lOGY1kqddpj"
      }
    },
    {
      "cell_type": "code",
      "source": [
        "def string_match(string, sub_str):\n",
        "  for i in range(len(string) - len(sub_str) + 1):\n",
        "    index = i\n",
        "    for j in range(len(sub_str)):\n",
        "      if string[index] == sub_str[j]:\n",
        "        index += 1\n",
        "\n",
        "      else:\n",
        "        break\n",
        "\n",
        "      if index - i == len(sub_str):\n",
        "        return i\n",
        "  return -1\n",
        "\n",
        "print(string_match(\"adbcbdc\", \"bdc\"))"
      ],
      "metadata": {
        "colab": {
          "base_uri": "https://localhost:8080/"
        },
        "id": "KX7FaRbmde8r",
        "outputId": "a7f54cd7-e50f-48e0-e913-f65d0c978e46"
      },
      "execution_count": 54,
      "outputs": [
        {
          "output_type": "stream",
          "name": "stdout",
          "text": [
            "4\n"
          ]
        }
      ]
    },
    {
      "cell_type": "markdown",
      "source": [
        "Latihan <br>\n",
        "Diketahui string terdiri dari angka 1 sampai 9, jika mencari 56. bagaimana hasilnya?"
      ],
      "metadata": {
        "id": "rrLGfUxEePzX"
      }
    },
    {
      "cell_type": "code",
      "source": [
        "def string_match(string, sub_str):\n",
        "  for i in range(len(string) - len(sub_str) + 1):\n",
        "    index = i\n",
        "    for j in range(len(sub_str)):\n",
        "      if string[index] == sub_str[j]:\n",
        "        index += 1\n",
        "\n",
        "      else:\n",
        "        break\n",
        "\n",
        "      if index - i == len(sub_str):\n",
        "        return i\n",
        "  return -1\n",
        "\n",
        "print(string_match(\"123456789\", \"56\"))"
      ],
      "metadata": {
        "colab": {
          "base_uri": "https://localhost:8080/"
        },
        "id": "0X7I0OKtePcs",
        "outputId": "f1820a0e-092f-4d7d-9ba4-ef19225ea9d1"
      },
      "execution_count": 55,
      "outputs": [
        {
          "output_type": "stream",
          "name": "stdout",
          "text": [
            "4\n"
          ]
        }
      ]
    },
    {
      "cell_type": "markdown",
      "source": [
        "Algoritma greedy pada TSP"
      ],
      "metadata": {
        "id": "qmqMPb8QgIaB"
      }
    },
    {
      "cell_type": "code",
      "source": [
        "import random\n",
        "from itertools import permutations\n",
        "alltours = permutations\n",
        "\n",
        "def distance_tour(aTour):\n",
        "    return sum(distance_points(aTour[i - 1], aTour[i]) for i in range(len(aTour)))\n",
        "\n",
        "aCity = complex\n",
        "\n",
        "def distance_points(first, second):\n",
        "    return abs(first - second)\n",
        "\n",
        "def generate_cities(number_of_cities):\n",
        "    seed = 111\n",
        "    width = 500\n",
        "    height =  300\n",
        "\n",
        "    random.seed((number_of_cities, seed))\n",
        "    return frozenset(aCity(random.randint(1, width), random.randint(1, height)) for c in range(number_of_cities))"
      ],
      "metadata": {
        "id": "U5rB-DgtgLW4"
      },
      "execution_count": 56,
      "outputs": []
    },
    {
      "cell_type": "code",
      "source": [
        "%matplotlib inline\n",
        "import matplotlib.pyplot as plt\n",
        "\n",
        "def visualize_tour(tour, style=\"bo-\"):\n",
        "    if len(tour) > 1000:\n",
        "        plt.figure(figsize=(15, 10))\n",
        "\n",
        "    start = tour[0:1]\n",
        "    visualize_segment(tour + start, style)\n",
        "    visualize_segment(start, \"rD\")\n",
        "\n",
        "def visualize_segment(segment, style=\"bo-\"):\n",
        "    plt.plot([X(c) for c in segment], [Y(c) for c in segment], style, clip_on = False)\n",
        "    plt.axis(\"scaled\")\n",
        "    plt.axis(\"off\")\n",
        "\n",
        "def X(city):\n",
        "    \"X axis\"\n",
        "    return city.real\n",
        "\n",
        "def Y(city):\n",
        "    \"Y axis\"\n",
        "    return city.imag"
      ],
      "metadata": {
        "id": "Kf7ix9vRiAug"
      },
      "execution_count": 57,
      "outputs": []
    },
    {
      "cell_type": "code",
      "source": [
        "from time import process_time\n",
        "from collections import Counter\n",
        "def tsp(algorithm, cities):\n",
        "    t0 = process_time()\n",
        "    tour = algorithm(cities)\n",
        "    t1 = process_time()\n",
        "    assert Counter(tour) == Counter(cities)\n",
        "    visualize_tour(tour)\n",
        "    print(\"{} : {} cities => tour length {: .0f} (in {:.3f} sec)\", format(name(algorithm)), len(tour), distance_tour(tour), t1 - t0)\n",
        "\n",
        "def name(algorithm):\n",
        "    return algorithm.__name__.replace(\"_tsp\", \" \")"
      ],
      "metadata": {
        "id": "gcOpffNDi9u1"
      },
      "execution_count": 58,
      "outputs": []
    },
    {
      "cell_type": "code",
      "source": [
        "def brute_force(cities):\n",
        "    \"Generate all possible tours of the cities and choose the shortest tour.\"\n",
        "    return shortest_tour(alltours(cities))\n",
        "\n",
        "def shortest_tour(tours):\n",
        "    return min(tours, key=distance_tour)"
      ],
      "metadata": {
        "id": "3BtLSexEkfUf"
      },
      "execution_count": 88,
      "outputs": []
    },
    {
      "cell_type": "code",
      "source": [
        "tsp(brute_force, generate_cities(13))"
      ],
      "metadata": {
        "id": "GCCoIw94lO-Q"
      },
      "execution_count": null,
      "outputs": []
    },
    {
      "cell_type": "markdown",
      "source": [
        "Latihan\n",
        "Berapa lama brute force pada TSP dengan 20 titik?"
      ],
      "metadata": {
        "id": "dC0fSgEzp5IB"
      }
    },
    {
      "cell_type": "markdown",
      "source": [
        "Latihan:\n",
        "\n",
        "Lebih cepat mana brute force atau greedy algorithm pada TSP dengan 20 titik?"
      ],
      "metadata": {
        "id": "6djDEN8w4NLu"
      }
    }
  ]
}